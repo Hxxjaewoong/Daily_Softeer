{
 "cells": [
  {
   "cell_type": "markdown",
   "metadata": {},
   "source": [
    "# multiprocessing.Process"
   ]
  },
  {
   "cell_type": "markdown",
   "metadata": {},
   "source": [
    "- multiprocessing.Pool과 multiprocessing.Process는 파이썬의 multiprocessing 모듈을 사용하여 멀티프로세싱을 구현하는 두 가지 다른 방법으로, 각각의 접근 방식은 특정 상황에 더 편리하게 사용될 수 있다.\n",
    "- 특히 여러 프로세스에 서로 다른 작업을 할당하기 위해서는 multiprocessing.Process를 사용하면 된다."
   ]
  },
  {
   "cell_type": "markdown",
   "metadata": {},
   "source": [
    "### multiprocessing.Pool\n",
    " \n",
    "\n",
    "- 편리한 인터페이스\n",
    "    - Pool 클래스를 사용하면 여러 프로세스를 쉽게 생성하고 관리할 수 있으며\n",
    "    - 각 프로세스에 작업을 분배하고 결과를 수집하는 데 유용하다\n",
    "    - 때문에 간단하고 동일한 작업을 여러 데이터에 병렬로 적용해야 할 때 편리하다\n",
    "\n",
    "- 작업 분배\n",
    "    - map, imap, apply 등을 통해 각 프로세스에 동일한 작업을 병렬로 분배할 수 있다.\n",
    "    - 입력 데이터를 나누어 처리하고 결과를 수집하는 과정이 내부적으로 처리된다.\n",
    " \n",
    "- 풀 크기 제어\n",
    "    - Pool의 processes 매개변수를 사용하여 생성할 프로세스의 개수를 조절할 수 있다"
   ]
  },
  {
   "cell_type": "markdown",
   "metadata": {},
   "source": [
    "### multiprocessing.Process\n",
    " \n",
    "\n",
    "- 더 많은 제어\n",
    "    - Process 클래스를 사용하면 각 프로세스에 대해 더 많은 제어를 할 수 있다.\n",
    "    - 각 프로세스를 명시적으로 시작하고 종료할 수 있다.\n",
    " \n",
    "- 프로세스 간 통신\n",
    "    - Queue, Pipe 등을 사용하여 프로세스 간 데이터 교환을 직접 구현해야 한다.\n",
    "    - IPC(Inter-Process Communication) 메커니즘을 통해 데이터를 공유할 수 있다.\n",
    "\n",
    "- 더 복잡한 작업에 적합\n",
    "    - 복잡한 작업이나 서로 다른 작업을 각 프로세스에 수행하고자 할 때 사용된다고 한다."
   ]
  },
  {
   "cell_type": "markdown",
   "metadata": {},
   "source": [
    "--- "
   ]
  },
  {
   "cell_type": "code",
   "execution_count": null,
   "metadata": {},
   "outputs": [],
   "source": [
    "from multiprocessing import Process, Queue\n",
    "\n",
    "def square_numbers(numbers, result_queue):\n",
    "    squared_numbers = [x ** 2 for x in numbers]\n",
    "    result_queue.put(squared_numbers)\n",
    "\n",
    "if __name__ == \"__main__\":\n",
    "    data = [1, 2, 3, 4, 5]\n",
    "    result_queue = Queue()\n",
    "\n",
    "    # 각 프로세스가 독립적으로 실행되며, 서로 다른 작업을 수행\n",
    "    num_of_processes = 3\n",
    "    processes = [Process(target=square_numbers, args=(data, result_queue)) for _ in range(num_of_processes)]\n",
    "\n",
    "    for process in processes:\n",
    "        process.start()\n",
    "\n",
    "    for process in processes:\n",
    "        process.join()\n",
    "\n",
    "    # 결과를 큐에서 수집\n",
    "    results = [result_queue.get() for _ in processes]\n",
    "\n",
    "    print(\"Results:\", results)"
   ]
  },
  {
   "cell_type": "markdown",
   "metadata": {},
   "source": [
    "- 생성자 인수:\n",
    "    - target: 실행할 함수.\n",
    "\t-   args: 함수에 전달할 인수(튜플 형식).\n",
    "\t-   name: 프로세스 이름(옵션).\n",
    "- 메서드:\n",
    "\t- start(): 프로세스를 시작합니다.\n",
    "\t- join(): 프로세스가 완료될 때까지 기다립니다.\n",
    "\t- is_alive(): 프로세스가 실행 중인지 확인합니다.\n",
    "\t- terminate(): 프로세스를 강제로 종료합니다."
   ]
  },
  {
   "cell_type": "markdown",
   "metadata": {},
   "source": [
    "- multiprocessing.Process의 장점\n",
    "\t1.\t병렬 처리: 멀티코어 CPU를 활용하여 여러 작업을 병렬로 실행할 수 있습니다.\n",
    "\t2.\tGIL의 제약 없음: 각 프로세스가 독립된 메모리 공간에서 실행되므로 GIL의 영향을 받지 않습니다.\n",
    "\t3.\t유연성:\t다양한 병렬 처리 시나리오에 사용할 수 있으며, 각 프로세스가 독립적으로 작업을 실행할 수 있습니다."
   ]
  },
  {
   "cell_type": "code",
   "execution_count": null,
   "metadata": {},
   "outputs": [],
   "source": [
    "from multiprocessing import Process\n",
    "import time\n",
    "\n",
    "def print_numbers(n):\n",
    "    for i in range(1, n+1):\n",
    "        print(f\"Number: {i}\")\n",
    "        time.sleep(1)\n",
    "\n",
    "if __name__ == \"__main__\":\n",
    "    process1 = Process(target=print_numbers, args=(5,))\n",
    "    process2 = Process(target=print_numbers, args=(3,))\n",
    "\n",
    "    process1.start()  # 첫 번째 프로세스 시작\n",
    "    process2.start()  # 두 번째 프로세스 시작\n",
    "\n",
    "    process1.join()   # 첫 번째 프로세스 완료 대기\n",
    "    process2.join()   # 두 번째 프로세스 완료 대기\n",
    "\n",
    "    print(\"All processes are complete.\")"
   ]
  },
  {
   "cell_type": "code",
   "execution_count": null,
   "metadata": {},
   "outputs": [],
   "source": []
  }
 ],
 "metadata": {
  "kernelspec": {
   "display_name": "venv",
   "language": "python",
   "name": "python3"
  },
  "language_info": {
   "codemirror_mode": {
    "name": "ipython",
    "version": 3
   },
   "file_extension": ".py",
   "mimetype": "text/x-python",
   "name": "python",
   "nbconvert_exporter": "python",
   "pygments_lexer": "ipython3",
   "version": "3.9.6"
  }
 },
 "nbformat": 4,
 "nbformat_minor": 2
}
