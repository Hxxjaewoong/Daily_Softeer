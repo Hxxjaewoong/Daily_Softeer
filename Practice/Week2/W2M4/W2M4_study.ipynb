{
 "cells": [
  {
   "cell_type": "markdown",
   "metadata": {},
   "source": [
    "# Queue.get_nowait()\n",
    ": Python의 multiprocessing.Queue 클래스에서 제공하는 메서드로, 큐에서 항목을 비차단(non-blocking) 방식으로 가져오는 기능을 합니다."
   ]
  },
  {
   "cell_type": "markdown",
   "metadata": {},
   "source": [
    "### 작동 방식\n",
    "- 기본 동작:\n",
    "\t- Queue.get() 메서드는 기본적으로 차단(blocking) 모드로 동작합니다.\n",
    "\t- 즉, 큐에 항목이 없으면 큐에 항목이 추가될 때까지 대기합니다.\n",
    "- Queue.get_nowait():\n",
    "\t- 이 메서드는 비차단(non-blocking) 모드로 동작하며, 큐에 항목이 없으면 바로 예외를 발생시킵니다.\n",
    "\t- 이를 통해 프로그램이 대기하지 않고 다른 작업을 계속 수행할 수 있습니다.\n",
    "- 예외 처리\n",
    "\t- 큐가 비어 있을 경우 Queue.get_nowait()는 queue.Empty 예외를 발생시킵니다.\n",
    "\t- 이 예외를 처리하여 큐가 비었을 때의 상황을 적절히 처리해야 합니다."
   ]
  },
  {
   "cell_type": "markdown",
   "metadata": {},
   "source": []
  },
  {
   "cell_type": "markdown",
   "metadata": {},
   "source": []
  }
 ],
 "metadata": {
  "kernelspec": {
   "display_name": "Python 3",
   "language": "python",
   "name": "python3"
  },
  "language_info": {
   "name": "python",
   "version": "3.9.6"
  }
 },
 "nbformat": 4,
 "nbformat_minor": 2
}
