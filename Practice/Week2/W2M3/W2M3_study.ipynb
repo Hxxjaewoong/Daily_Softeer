{
 "cells": [
  {
   "cell_type": "markdown",
   "metadata": {},
   "source": [
    "- 각각의 프로세스사이에서 서로 값의 communication 이 필요할때 multiprocessing 은 두가지 방법을 제공합니다. \n",
    "- Queue 와 Pipe 입니다. \n",
    "- 이중에서  Queue 의 구현은 프로세스의 thread 와 process 를 안전하게 만듭니다"
   ]
  },
  {
   "cell_type": "markdown",
   "metadata": {},
   "source": [
    "### 주요 메서드\n",
    "- put(item):\n",
    "    - 큐에 데이터를 추가합니다.\n",
    "\t- 큐가 가득 찬 경우, 기본적으로 블로킹됩니다.\n",
    "\t- put(item, block=False)를 사용하면 블로킹 없이 동작하며, 큐가 가득 찬 경우 예외가 발생합니다.\n",
    "- get():\n",
    "\t- 큐에서 데이터를 가져옵니다.\n",
    "\t- 큐가 비어 있으면 기본적으로 블로킹됩니다.\n",
    "\t- get(block=False)를 사용하면 블로킹 없이 동작하며, 큐가 비어 있으면 예외가 발생합니다.\n",
    "- empty():\n",
    "\t- 큐가 비어 있으면 True를 반환합니다.\n",
    "\t- 비어 있지 않은 상태에서도 데이터가 소비되기 전에 다른 프로세스가 접근할 수 있으므로 완전한 신뢰는 어렵습니다.\n",
    "- full():\n",
    "\t- 큐가 가득 차면 True를 반환합니다.\n",
    "- qsize():\n",
    "\t- 큐에 있는 항목 수를 반환합니다.\n",
    "\t- 프로세스 간 동시 접근이 있을 경우 정확하지 않을 수 있습니다."
   ]
  },
  {
   "cell_type": "code",
   "execution_count": null,
   "metadata": {},
   "outputs": [],
   "source": [
    "from multiprocessing import Process, Queue\n",
    "\n",
    "def producer(queue):\n",
    "    for i in range(5):\n",
    "        print(f\"Producing: {i}\")\n",
    "        queue.put(i)\n",
    "\n",
    "def consumer(queue):\n",
    "    while not queue.empty():\n",
    "        item = queue.get()\n",
    "        print(f\"Consuming: {item}\")\n",
    "\n",
    "if __name__ == \"__main__\":\n",
    "    q = Queue()\n",
    "\n",
    "    # 프로듀서와 컨슈머 프로세스 생성\n",
    "    p1 = Process(target=producer, args=(q,))\n",
    "    p2 = Process(target=consumer, args=(q,))\n",
    "\n",
    "    # 프로세스 시작\n",
    "    p1.start()\n",
    "    p1.join()  # 프로듀서가 작업을 완료한 뒤 컨슈머가 실행되도록\n",
    "\n",
    "    p2.start()\n",
    "    p2.join()"
   ]
  },
  {
   "cell_type": "code",
   "execution_count": null,
   "metadata": {},
   "outputs": [],
   "source": [
    "from multiprocessing import Process, Queue\n",
    " \n",
    "sentinel = -1\n",
    " \n",
    "def creator(data, q):\n",
    "    #  Creates data to be consumed and waits for the consumer to finish processing\n",
    "    \n",
    "    print('Creating data and putting it on the queue')\n",
    "    for item in data:\n",
    "        q.put(item)\n",
    " \n",
    "\n",
    "def my_consumer(q):\n",
    "    # Consumes some data and works on it\n",
    "    # In this case, all it does is double the input\n",
    "   \n",
    "    while True:\n",
    "        data = q.get()\n",
    "        print('data found to be processed: {}'.format(data))\n",
    "        processed = data * 2\n",
    "        print(processed)\n",
    " \n",
    "        if data is sentinel:\n",
    "            break\n",
    " \n",
    "if __name__ == '__main__':\n",
    "    q = Queue()\n",
    "    data = [5, 10, 13, -1]\n",
    "    process_one = Process(target=creator, args=(data, q))\n",
    "    process_two = Process(target=my_consumer, args=(q,))\n",
    "    process_one.start()\n",
    "    process_two.start()\n",
    " \n",
    "    q.close()\n",
    "    q.join_thread()\n",
    " \n",
    "    process_one.join()\n",
    "    process_two.join()"
   ]
  }
 ],
 "metadata": {
  "kernelspec": {
   "display_name": "Python 3",
   "language": "python",
   "name": "python3"
  },
  "language_info": {
   "name": "python",
   "version": "3.9.6"
  }
 },
 "nbformat": 4,
 "nbformat_minor": 2
}
