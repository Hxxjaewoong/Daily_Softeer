{
 "cells": [
  {
   "cell_type": "markdown",
   "metadata": {},
   "source": [
    "### Docker 장점\n",
    "- 매벌 일일이 설치하는 과정을 거치지 않아도 됨\n",
    "- 항상 일관되게 프로그램을 설치 가능 ==> (버전, 설치 환경, 운영체제 등)\n",
    "- 각 프로그램이 독립적으로 실행되므로, 보안 프로그램 같은 다른 프로그램과 충돌이 일어나지 않음\n"
   ]
  },
  {
   "cell_type": "markdown",
   "metadata": {},
   "source": [
    "### IP & Port\n",
    "- IP: 특정 컴퓨터의 주소\n",
    "- Port: 한 컴퓨터 내에서 실행되고 <u>특정 프로그램의 주소</u>\n",
    "- 자주 쓰는 포트 번호\n",
    "    - 22번: SSH(Secure Shell Protocol)로 원격 접속을 위한 포트 번호\n",
    "    - 80번: HTTP로 통신할 때\n",
    "    - 443번: HTTPS로 통신할 때"
   ]
  },
  {
   "cell_type": "markdown",
   "metadata": {},
   "source": [
    "### Container\n",
    "- container는 하나의 컴퓨터 안에 작은 미니 컴퓨터라고 생각하면 됨 (윈도우의 계정들 처럼)\n",
    "- container를 포함하고 있는 컴퓨터를 host computer라고 부름\n",
    "- container는 독립적인 환경을 가지고 있음 ==> 각자의 저장공간, 고유의 네트워크 (ip, port)를 가짐\n",
    "- 명령어 \n",
    "    - docker create [nginx] ==> 컨테이터 생성 (이미지 없으면 자동으로 다운받아서 이미지를 생성함)\n",
    "    - docker start [container ID] ==> 컨테이너 실행\n",
    "    - docker stop [container ID] ==> 컨테이너 중단\n",
    "    - docker rm [container ID] ==> 컨테이너 삭제\n",
    "    - docker stop $(docker ps -q) ==> 컨테이너 모두 중단\n",
    "    - docker rm $(docker ps -a -q) ==> 컨테이너 모두 삭제\n",
    "    - docker ps ==> 실행중인 컨테이너만 조회 \n",
    "    - docker ps -a ==> 모든 (중단된 것 포함) 컨테이너 조회\n",
    "\n",
    "### Image\n",
    "- 닌텐도에서 닌텐도 칩과 같은 개념\n",
    "- 예를 들면, SQL 서버를 이미지로 만들면 해당 이미지를 도커로 실행시키는 순간 SQL서버가 컨테이너 환경에서 실행되는 것\n",
    "- **<u>이미지는 프로그램을 실행하는데 필요한 설치 과정, 설정, 정보 등을 포함. 즉, 프로그램을 실행하는데 필요한 모든 것을 포함</u>**\n",
    "- **<u>Tag는 이미지의 버전명임. 특정 이미지의 버전명을 태그 이름으로 함</u>**\n",
    "- 명령어\n",
    "    - docker image ls ==> Created는 내가 다운받은 날이 아니라, 개발자가 만든 날\n",
    "    - docker image rm [Image ID] ==> 컨테이너에서 사용하고 있지 않은 이미지만 삭제 가능\n",
    "    - docker image rm -f [Image ID] ==> 중단된 컨테이너에서 사용하는 이미지만 삭제. 중단되지 않은 건 컨테이너를 중단 시켜야함\n",
    "    - docker image rm -f $(docker images -q) ==> 전체 이미지 삭제\n",
    "    \n",
    "### docker run ==> create + start\n",
    "- docker run [afjskl] : 포그라운드 실행\n",
    "- docker run -d [fadsfa] : 백그라운드 실행\n",
    "- docker run -d --name [내가 설정한 이름] [이미지]\n",
    "- **docker run -d -p [호스트 포트]:[컨테이너 포트] [이미지]**\n"
   ]
  },
  {
   "cell_type": "markdown",
   "metadata": {},
   "source": [
    "### Docker Hub\n",
    "- 이미지를 저장하고 다운 받을 수 있는 곳\n"
   ]
  },
  {
   "cell_type": "markdown",
   "metadata": {},
   "source": [
    "### Docker Image 다운 받기\n",
    "- docker pull [image]"
   ]
  }
 ],
 "metadata": {
  "kernelspec": {
   "display_name": "venv",
   "language": "python",
   "name": "python3"
  },
  "language_info": {
   "name": "python",
   "version": "3.9.6"
  }
 },
 "nbformat": 4,
 "nbformat_minor": 2
}
