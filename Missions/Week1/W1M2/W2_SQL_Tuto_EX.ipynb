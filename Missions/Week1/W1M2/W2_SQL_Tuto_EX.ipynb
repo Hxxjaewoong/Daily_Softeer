{
 "cells": [
  {
   "cell_type": "markdown",
   "metadata": {},
   "source": [
    "# W1M2 - SQL Tutorial"
   ]
  },
  {
   "cell_type": "markdown",
   "metadata": {},
   "source": [
    "#### 학습 목표\n",
    "SQL의 기초에 대해서 공부합니다.\n",
    "Tutorial의 Home에서부터 Operators까지 읽고 Example을 실행합니다.\n",
    "Jupyter Notebook에서 SQL을 사용해서 데이터를 처리하는 것을 공부합니다.\n",
    "\n",
    "#### 기능요구사항\n",
    "Jupyter Notebook을 만듭니다.\n",
    "SQL Tutorials에서 Example을 하나씩 수행하고 그 결과를 노트북에 출력하세요.\n",
    "원하는 출력결과를 얻기 위해 필요하다면 적합한 Demo Table을 만들어야 합니다.\n",
    "\n",
    "#### 프로그래밍 요구사항\n",
    "sqlite3 라이브러리를 사용하세요\n",
    "\n",
    "#### pandas와 같은 라이브러리는 사용해서는 안됩니다. SQL 명령어로만 원하는 결과를 얻어야 합니다.\n",
    "\n",
    "#### 예상결과 및 동작예시\n",
    "Query의 결과가 출력된 Jupyter notebook을 제출하세요.\n",
    "\n",
    "#### 팀 활동 요구사항\n",
    "각자가 이해하기 어려웠던, 또는 이해하지 못한 keyword에 대해서 함께 토의해 봅시다. 그 결과를 개인 위키에 기록하세요.\n",
    "\n"
   ]
  },
  {
   "cell_type": "markdown",
   "metadata": {},
   "source": [
    "---"
   ]
  },
  {
   "cell_type": "markdown",
   "metadata": {},
   "source": [
    "# SQL Tutorial Example"
   ]
  },
  {
   "cell_type": "code",
   "execution_count": 55,
   "metadata": {},
   "outputs": [],
   "source": [
    "\n",
    "import sqlite3\n",
    "\n",
    "conn = sqlite3.connect('./M2.db')\n",
    "cur = conn.cursor()\n",
    "sql = open('/Users/admin/Documents/GitHub/Daily_Softeer/Missions/Week1/W1M2/hjw_sql.sql', 'r').read()\n",
    "\n",
    "# init db\n",
    "cur.executescript(sql)\n",
    "\n",
    "# 6줄만 나오도록 제한\n",
    "# def print_query(query, limit=6):\n",
    "#     cur.execute(query)\n",
    "#     print(query)\n",
    "#     i = 0\n",
    "#     for row in cur:\n",
    "#         if i >= limit:\n",
    "#             print('...')\n",
    "#             break\n",
    "#         print(row)\n",
    "#         i += 1\n",
    "#     print('-' * 50)\n",
    "    \n",
    "\n",
    "def print_query(query, limit=6):\n",
    "    print(query)\n",
    "    \"\"\"Execute a query and print the result with an optional limit.\"\"\"\n",
    "    cur.execute(query)\n",
    "    results = cur.fetchall()\n",
    "    \n",
    "    # 프린트 줄의 제한\n",
    "    print(\"Query Results:\")\n",
    "    for idx, row in enumerate(results):\n",
    "        if idx >= limit:\n",
    "            print(f\"...and {len(results) - limit} more rows.\")\n",
    "            break\n",
    "        print(row)\n",
    "    \n",
    "    # Calculate and print the total rows if no limit is applied\n",
    "    if limit:\n",
    "        print(f\"Total rows (if limit is removed): {len(results)}\")\n",
    "    \n",
    "    print('-' * 50)\n",
    "\n"
   ]
  },
  {
   "cell_type": "markdown",
   "metadata": {},
   "source": [
    "#### SQL SELECT Statement"
   ]
  },
  {
   "cell_type": "code",
   "execution_count": 56,
   "metadata": {},
   "outputs": [
    {
     "name": "stdout",
     "output_type": "stream",
     "text": [
      "SELECT * FROM Customers\n",
      "Query Results:\n",
      "(1, 'Alfreds Futterkiste', 'Maria Anders', 'Obere Str. 57', 'Berlin', '12209', 'Germany')\n",
      "(2, 'Ana Trujillo Emparedados y helados', 'Ana Trujillo', 'Avda. de la Constitución 2222', 'México D.F.', '5021', 'Mexico')\n",
      "(3, 'Antonio Moreno Taquería', 'Antonio Moreno', 'Mataderos 2312', 'México D.F.', '5023', 'Mexico')\n",
      "(4, 'Around the Horn', 'Thomas Hardy', '120 Hanover Sq.', 'London', 'WA1 1DP', 'UK')\n",
      "(5, 'Berglunds snabbköp', 'Christina Berglund', 'Berguvsvägen 8', 'Luleå', 'S-958 22', 'Sweden')\n",
      "(6, 'Blauer See Delikatessen', 'Hanna Moos', 'Forsterstr. 57', 'Mannheim', '68306', 'Germany')\n",
      "...and 85 more rows.\n",
      "Total rows (if limit is removed): 91\n",
      "--------------------------------------------------\n"
     ]
    }
   ],
   "source": [
    "print_query('SELECT * FROM Customers')"
   ]
  },
  {
   "cell_type": "code",
   "execution_count": 57,
   "metadata": {},
   "outputs": [
    {
     "name": "stdout",
     "output_type": "stream",
     "text": [
      "SELECT Address FROM Customers\n",
      "Query Results:\n",
      "('Obere Str. 57',)\n",
      "('Avda. de la Constitución 2222',)\n",
      "('Mataderos 2312',)\n",
      "('120 Hanover Sq.',)\n",
      "('Berguvsvägen 8',)\n",
      "('Forsterstr. 57',)\n",
      "...and 85 more rows.\n",
      "Total rows (if limit is removed): 91\n",
      "--------------------------------------------------\n"
     ]
    }
   ],
   "source": [
    "print_query('SELECT Address FROM Customers')"
   ]
  },
  {
   "cell_type": "markdown",
   "metadata": {},
   "source": [
    "#### SQL SELECT DISTINCT"
   ]
  },
  {
   "cell_type": "code",
   "execution_count": 58,
   "metadata": {},
   "outputs": [
    {
     "name": "stdout",
     "output_type": "stream",
     "text": [
      "SELECT DISTINCT Country FROM Customers\n",
      "Query Results:\n",
      "('Germany',)\n",
      "('Mexico',)\n",
      "('UK',)\n",
      "('Sweden',)\n",
      "('France',)\n",
      "('Spain',)\n",
      "...and 15 more rows.\n",
      "Total rows (if limit is removed): 21\n",
      "--------------------------------------------------\n",
      "SELECT Country FROM Customers\n",
      "Query Results:\n",
      "('Germany',)\n",
      "('Mexico',)\n",
      "('Mexico',)\n",
      "('UK',)\n",
      "('Sweden',)\n",
      "('Germany',)\n",
      "...and 85 more rows.\n",
      "Total rows (if limit is removed): 91\n",
      "--------------------------------------------------\n",
      "SELECT COUNT(DISTINCT Country) FROM Customers\n",
      "Query Results:\n",
      "(21,)\n",
      "Total rows (if limit is removed): 1\n",
      "--------------------------------------------------\n"
     ]
    }
   ],
   "source": [
    "print_query('SELECT DISTINCT Country FROM Customers')\n",
    "print_query('SELECT Country FROM Customers')\n",
    "print_query('SELECT COUNT(DISTINCT Country) FROM Customers')\n"
   ]
  },
  {
   "cell_type": "markdown",
   "metadata": {},
   "source": [
    "#### SQL WHERE"
   ]
  },
  {
   "cell_type": "code",
   "execution_count": 59,
   "metadata": {},
   "outputs": [
    {
     "name": "stdout",
     "output_type": "stream",
     "text": [
      "\n",
      "              SELECT * FROM Customers\n",
      "              WHERE Country=\"Mexico\"\n",
      "              \n",
      "Query Results:\n",
      "(2, 'Ana Trujillo Emparedados y helados', 'Ana Trujillo', 'Avda. de la Constitución 2222', 'México D.F.', '5021', 'Mexico')\n",
      "(3, 'Antonio Moreno Taquería', 'Antonio Moreno', 'Mataderos 2312', 'México D.F.', '5023', 'Mexico')\n",
      "(13, 'Centro comercial Moctezuma', 'Francisco Chang', 'Sierras de Granada 9993', 'México D.F.', '5022', 'Mexico')\n",
      "(58, 'Pericles Comidas clásicas', 'Guillermo Fernández', 'Calle Dr. Jorge Cash 321', 'México D.F.', '5033', 'Mexico')\n",
      "(80, 'Tortuga Restaurante', 'Miguel Angel Paolino', 'Avda. Azteca 123', 'México D.F.', '5033', 'Mexico')\n",
      "Total rows (if limit is removed): 5\n",
      "--------------------------------------------------\n",
      "\n",
      "              SELECT * FROM Customers\n",
      "              WHERE CustomerID=1;\n",
      "              \n",
      "Query Results:\n",
      "(1, 'Alfreds Futterkiste', 'Maria Anders', 'Obere Str. 57', 'Berlin', '12209', 'Germany')\n",
      "Total rows (if limit is removed): 1\n",
      "--------------------------------------------------\n",
      "\n",
      "              SELECT * FROM Customers\n",
      "              WHERE CustomerID > 80\n",
      "              \n",
      "Query Results:\n",
      "(81, 'Tradição Hipermercados', 'Anabela Domingues', 'Av. Inês de Castro, 414', 'São Paulo', '05634-030', 'Brazil')\n",
      "(82, \"Trail''s Head Gourmet Provisioners\", 'Helvetius Nagy', '722 DaVinci Blvd.', 'Kirkland', '98034', 'USA')\n",
      "(83, 'Vaffeljernet', 'Palle Ibsen', 'Smagsløget 45', 'Århus', '8200', 'Denmark')\n",
      "(84, 'Victuailles en stock', 'Mary Saveley', '2, rue du Commerce', 'Lyon', '69004', 'France')\n",
      "(85, 'Vins et alcools Chevalier', 'Paul Henriot', \"59 rue de l''Abbaye\", 'Reims', '51100', 'France')\n",
      "(86, 'Die Wandernde Kuh', 'Rita Müller', 'Adenauerallee 900', 'Stuttgart', '70563', 'Germany')\n",
      "...and 5 more rows.\n",
      "Total rows (if limit is removed): 11\n",
      "--------------------------------------------------\n"
     ]
    }
   ],
   "source": [
    "WHERE_query_1 = '''\n",
    "              SELECT * FROM Customers\n",
    "              WHERE Country=\"Mexico\"\n",
    "              '''\n",
    "print_query(WHERE_query_1)\n",
    "\n",
    "WHERE_query_2 = '''\n",
    "              SELECT * FROM Customers\n",
    "              WHERE CustomerID=1;\n",
    "              '''\n",
    "print_query(WHERE_query_2)\n",
    "\n",
    "WHERE_query_3 = '''\n",
    "              SELECT * FROM Customers\n",
    "              WHERE CustomerID > 80\n",
    "              '''\n",
    "print_query(WHERE_query_3)\n",
    "\n"
   ]
  },
  {
   "cell_type": "markdown",
   "metadata": {},
   "source": [
    "#### SQL ORDER BY"
   ]
  },
  {
   "cell_type": "code",
   "execution_count": 60,
   "metadata": {},
   "outputs": [
    {
     "name": "stdout",
     "output_type": "stream",
     "text": [
      "\n",
      "SELECT * FROM Products\n",
      "ORDER BY Price\n",
      "\n",
      "Query Results:\n",
      "(33, 'Geitost', 15, 4, '500 g', 2.5)\n",
      "(24, 'Guaraná Fantástica', 10, 1, '12 - 355 ml cans', 4.5)\n",
      "(13, 'Konbu', 6, 8, '2 kg box', 6)\n",
      "(52, 'Filo Mix', 24, 5, '16 - 2 kg boxes', 7)\n",
      "(54, 'Tourtière', 25, 6, '16 pies', 7.45)\n",
      "(75, 'Rhönbräu Klosterbier', 12, 1, '24 - 0.5 l bottles', 7.75)\n",
      "...and 71 more rows.\n",
      "Total rows (if limit is removed): 77\n",
      "--------------------------------------------------\n",
      "\n",
      "SELECT * FROM Products\n",
      "ORDER BY Price DESC\n",
      "\n",
      "Query Results:\n",
      "(38, 'Côte de Blaye', 18, 1, '12 - 75 cl bottles', 263.5)\n",
      "(29, 'Thüringer Rostbratwurst', 12, 6, '50 bags x 30 sausgs.', 123.79)\n",
      "(9, 'Mishi Kobe Niku', 4, 6, '18 - 500 g pkgs.', 97)\n",
      "(20, \"Sir Rodney's Marmalade\", 8, 3, '30 gift boxes', 81)\n",
      "(18, 'Carnarvon Tigers', 7, 8, '16 kg pkg.', 62.5)\n",
      "(59, 'Raclette Courdavault', 28, 4, '5 kg pkg.', 55)\n",
      "...and 71 more rows.\n",
      "Total rows (if limit is removed): 77\n",
      "--------------------------------------------------\n",
      " \n",
      "SELECT * FROM Products\n",
      "ORDER BY ProductName\n",
      "\n",
      "Query Results:\n",
      "(17, 'Alice Mutton', 7, 6, '20 - 1 kg tins', 39)\n",
      "(3, 'Aniseed Syrup', 1, 2, '12 - 550 ml bottles', 10)\n",
      "(40, 'Boston Crab Meat', 19, 8, '24 - 4 oz tins', 18.4)\n",
      "(60, 'Camembert Pierrot', 28, 4, '15 - 300 g rounds', 34)\n",
      "(18, 'Carnarvon Tigers', 7, 8, '16 kg pkg.', 62.5)\n",
      "(1, 'Chais', 1, 1, '10 boxes x 20 bags', 18)\n",
      "...and 71 more rows.\n",
      "Total rows (if limit is removed): 77\n",
      "--------------------------------------------------\n"
     ]
    }
   ],
   "source": [
    "ORDER_BY_query = '''\n",
    "SELECT * FROM Products\n",
    "ORDER BY Price\n",
    "'''\n",
    "                 \n",
    "print_query(ORDER_BY_query)\n",
    "\n",
    "\n",
    "ORDER_BY_DESC_query = '''\n",
    "SELECT * FROM Products\n",
    "ORDER BY Price DESC\n",
    "'''\n",
    "                 \n",
    "print_query(ORDER_BY_DESC_query)\n",
    "\n",
    "\n",
    "# Alphabetically\n",
    "ORDER_BY_Alp = ''' \n",
    "SELECT * FROM Products\n",
    "ORDER BY ProductName\n",
    "'''\n",
    "print_query(ORDER_BY_Alp)\n"
   ]
  },
  {
   "cell_type": "code",
   "execution_count": 61,
   "metadata": {},
   "outputs": [
    {
     "name": "stdout",
     "output_type": "stream",
     "text": [
      " \n",
      "SELECT * FROM Customers\n",
      "ORDER BY Country ASC, CustomerName DESC\n",
      "\n",
      "Query Results:\n",
      "(64, 'Rancho grande', 'Sergio Gutiérrez', 'Av. del Libertador 900', 'Buenos Aires', '1010', 'Argentina')\n",
      "(54, 'Océano Atlántico Ltda.', 'Yvonne Moncada', 'Ing. Gustavo Moncada 8585 Piso 20-A', 'Buenos Aires', '1010', 'Argentina')\n",
      "(12, 'Cactus Comidas para llevar', 'Patricio Simpson', 'Cerrito 333', 'Buenos Aires', '1010', 'Argentina')\n",
      "(59, 'Piccolo und mehr', 'Georg Pipps', 'Geislweg 14', 'Salzburg', '5020', 'Austria')\n",
      "(20, 'Ernst Handel', 'Roland Mendel', 'Kirchgasse 6', 'Graz', '8010', 'Austria')\n",
      "(76, 'Suprêmes délices', 'Pascale Cartrain', 'Boulevard Tirou, 255', 'Charleroi', 'B-6000', 'Belgium')\n",
      "...and 85 more rows.\n",
      "Total rows (if limit is removed): 91\n",
      "--------------------------------------------------\n"
     ]
    }
   ],
   "source": [
    "# ORDER BY Several Columns\n",
    "ORDER_BY_sev = ''' \n",
    "SELECT * FROM Customers\n",
    "ORDER BY Country ASC, CustomerName DESC\n",
    "'''\n",
    "print_query(ORDER_BY_sev)"
   ]
  },
  {
   "cell_type": "markdown",
   "metadata": {},
   "source": [
    "#### SQL AND"
   ]
  },
  {
   "cell_type": "markdown",
   "metadata": {},
   "source": [
    "**AND vs OR**  \n",
    "AND\t모든 조건이 TRUE일 경우 레코드 반환\t(모든 조건 만족해야)  \n",
    "OR\t하나 이상의 조건이 TRUE일 경우 레코드 반환 (하나만 만족)  "
   ]
  },
  {
   "cell_type": "code",
   "execution_count": 62,
   "metadata": {},
   "outputs": [
    {
     "name": "stdout",
     "output_type": "stream",
     "text": [
      " \n",
      "SELECT *\n",
      "FROM Customers\n",
      "WHERE Country = \"Spain\" AND CustomerName LIKE \"G%\"\n",
      "\n",
      "Query Results:\n",
      "(29, 'Galería del gastrónomo', 'Eduardo Saavedra', 'Rambla de Cataluña, 23', 'Barcelona', '8022', 'Spain')\n",
      "(30, 'Godos Cocina Típica', 'José Pedro Freyre', 'C/ Romero, 33', 'Sevilla', '41101', 'Spain')\n",
      "Total rows (if limit is removed): 2\n",
      "--------------------------------------------------\n",
      " \n",
      "SELECT * FROM Customers\n",
      "WHERE Country = 'Germany'\n",
      "AND City = 'Berlin'\n",
      "AND PostalCode > 12000\n",
      "\n",
      "Query Results:\n",
      "(1, 'Alfreds Futterkiste', 'Maria Anders', 'Obere Str. 57', 'Berlin', '12209', 'Germany')\n",
      "Total rows (if limit is removed): 1\n",
      "--------------------------------------------------\n",
      " \n",
      "SELECT * FROM Customers\n",
      "WHERE Country = 'Spain' AND (CustomerName LIKE 'G%' OR CustomerName LIKE 'R%')\n",
      "\n",
      "Query Results:\n",
      "(29, 'Galería del gastrónomo', 'Eduardo Saavedra', 'Rambla de Cataluña, 23', 'Barcelona', '8022', 'Spain')\n",
      "(30, 'Godos Cocina Típica', 'José Pedro Freyre', 'C/ Romero, 33', 'Sevilla', '41101', 'Spain')\n",
      "(69, 'Romero y tomillo', 'Alejandra Camino', 'Gran Vía, 1', 'Madrid', '28001', 'Spain')\n",
      "Total rows (if limit is removed): 3\n",
      "--------------------------------------------------\n",
      " \n",
      "SELECT * FROM Customers\n",
      "WHERE Country = 'Spain' AND CustomerName LIKE 'G%' OR CustomerName LIKE 'R%'\n",
      "\n",
      "Query Results:\n",
      "(29, 'Galería del gastrónomo', 'Eduardo Saavedra', 'Rambla de Cataluña, 23', 'Barcelona', '8022', 'Spain')\n",
      "(30, 'Godos Cocina Típica', 'José Pedro Freyre', 'C/ Romero, 33', 'Sevilla', '41101', 'Spain')\n",
      "(64, 'Rancho grande', 'Sergio Gutiérrez', 'Av. del Libertador 900', 'Buenos Aires', '1010', 'Argentina')\n",
      "(65, 'Rattlesnake Canyon Grocery', 'Paula Wilson', '2817 Milton Dr.', 'Albuquerque', '87110', 'USA')\n",
      "(66, 'Reggiani Caseifici', 'Maurizio Moroni', 'Strada Provinciale 124', 'Reggio Emilia', '42100', 'Italy')\n",
      "(67, 'Ricardo Adocicados', 'Janete Limeira', 'Av. Copacabana, 267', 'Rio de Janeiro', '02389-890', 'Brazil')\n",
      "...and 2 more rows.\n",
      "Total rows (if limit is removed): 8\n",
      "--------------------------------------------------\n"
     ]
    }
   ],
   "source": [
    "AND_qu = ''' \n",
    "SELECT *\n",
    "FROM Customers\n",
    "WHERE Country = \"Spain\" AND CustomerName LIKE \"G%\"\n",
    "'''\n",
    "print_query(AND_qu)\n",
    "\n",
    "\n",
    "AND_qu = ''' \n",
    "SELECT * FROM Customers\n",
    "WHERE Country = 'Germany'\n",
    "AND City = 'Berlin'\n",
    "AND PostalCode > 12000\n",
    "'''\n",
    "print_query(AND_qu)\n",
    "\n",
    "# 괄호를 사용하여 연산의 우선순위를 명확히 지정해야 올바른 결과를 얻을 수 있다\n",
    "AND_qu = ''' \n",
    "SELECT * FROM Customers\n",
    "WHERE Country = 'Spain' AND (CustomerName LIKE 'G%' OR CustomerName LIKE 'R%')\n",
    "'''\n",
    "print_query(AND_qu)\n",
    "\n",
    "\n",
    "AND_qu = ''' \n",
    "SELECT * FROM Customers\n",
    "WHERE Country = 'Spain' AND CustomerName LIKE 'G%' OR CustomerName LIKE 'R%'\n",
    "'''\n",
    "print_query(AND_qu)\n"
   ]
  },
  {
   "cell_type": "markdown",
   "metadata": {},
   "source": [
    "#### SQL OR Operator"
   ]
  },
  {
   "cell_type": "code",
   "execution_count": 63,
   "metadata": {},
   "outputs": [
    {
     "name": "stdout",
     "output_type": "stream",
     "text": [
      " \n",
      "SELECT *\n",
      "FROM Customers\n",
      "WHERE Country = 'Germany' OR Country = 'Spain'\n",
      "\n",
      "Query Results:\n",
      "(1, 'Alfreds Futterkiste', 'Maria Anders', 'Obere Str. 57', 'Berlin', '12209', 'Germany')\n",
      "(6, 'Blauer See Delikatessen', 'Hanna Moos', 'Forsterstr. 57', 'Mannheim', '68306', 'Germany')\n",
      "(8, 'Bólido Comidas preparadas', 'Martín Sommer', 'C/ Araquil, 67', 'Madrid', '28023', 'Spain')\n",
      "(17, 'Drachenblut Delikatessend', 'Sven Ottlieb', 'Walserweg 21', 'Aachen', '52066', 'Germany')\n",
      "(22, 'FISSA Fabrica Inter. Salchichas S.A.', 'Diego Roel', 'C/ Moralzarzal, 86', 'Madrid', '28034', 'Spain')\n",
      "(25, 'Frankenversand', 'Peter Franken', 'Berliner Platz 43', 'München', '80805', 'Germany')\n",
      "...and 10 more rows.\n",
      "Total rows (if limit is removed): 16\n",
      "--------------------------------------------------\n",
      " \n",
      "SELECT * FROM Customers\n",
      "WHERE City = 'Berlin' OR CustomerName LIKE 'G%' OR Country = 'Norway'\n",
      "\n",
      "Query Results:\n",
      "(1, 'Alfreds Futterkiste', 'Maria Anders', 'Obere Str. 57', 'Berlin', '12209', 'Germany')\n",
      "(29, 'Galería del gastrónomo', 'Eduardo Saavedra', 'Rambla de Cataluña, 23', 'Barcelona', '8022', 'Spain')\n",
      "(30, 'Godos Cocina Típica', 'José Pedro Freyre', 'C/ Romero, 33', 'Sevilla', '41101', 'Spain')\n",
      "(31, 'Gourmet Lanchonetes', 'André Fonseca', 'Av. Brasil, 442', 'Campinas', '04876-786', 'Brazil')\n",
      "(32, 'Great Lakes Food Market', 'Howard Snyder', '2732 Baker Blvd.', 'Eugene', '97403', 'USA')\n",
      "(33, 'GROSELLA-Restaurante', 'Manuel Pereira', '5ª Ave. Los Palos Grandes', 'Caracas', '1081', 'Venezuela')\n",
      "...and 1 more rows.\n",
      "Total rows (if limit is removed): 7\n",
      "--------------------------------------------------\n",
      " \n",
      "SELECT * FROM Customers\n",
      "WHERE Country = 'Spain' AND (CustomerName LIKE 'G%' OR CustomerName LIKE 'R%')\n",
      "\n",
      "Query Results:\n",
      "(29, 'Galería del gastrónomo', 'Eduardo Saavedra', 'Rambla de Cataluña, 23', 'Barcelona', '8022', 'Spain')\n",
      "(30, 'Godos Cocina Típica', 'José Pedro Freyre', 'C/ Romero, 33', 'Sevilla', '41101', 'Spain')\n",
      "(69, 'Romero y tomillo', 'Alejandra Camino', 'Gran Vía, 1', 'Madrid', '28001', 'Spain')\n",
      "Total rows (if limit is removed): 3\n",
      "--------------------------------------------------\n",
      " \n",
      "SELECT * FROM Customers\n",
      "WHERE Country = 'Spain' AND CustomerName LIKE 'G%' OR CustomerName LIKE 'R%'\n",
      "\n",
      "Query Results:\n",
      "(29, 'Galería del gastrónomo', 'Eduardo Saavedra', 'Rambla de Cataluña, 23', 'Barcelona', '8022', 'Spain')\n",
      "(30, 'Godos Cocina Típica', 'José Pedro Freyre', 'C/ Romero, 33', 'Sevilla', '41101', 'Spain')\n",
      "(64, 'Rancho grande', 'Sergio Gutiérrez', 'Av. del Libertador 900', 'Buenos Aires', '1010', 'Argentina')\n",
      "(65, 'Rattlesnake Canyon Grocery', 'Paula Wilson', '2817 Milton Dr.', 'Albuquerque', '87110', 'USA')\n",
      "(66, 'Reggiani Caseifici', 'Maurizio Moroni', 'Strada Provinciale 124', 'Reggio Emilia', '42100', 'Italy')\n",
      "(67, 'Ricardo Adocicados', 'Janete Limeira', 'Av. Copacabana, 267', 'Rio de Janeiro', '02389-890', 'Brazil')\n",
      "...and 2 more rows.\n",
      "Total rows (if limit is removed): 8\n",
      "--------------------------------------------------\n"
     ]
    }
   ],
   "source": [
    "OR_query = ''' \n",
    "SELECT *\n",
    "FROM Customers\n",
    "WHERE Country = 'Germany' OR Country = 'Spain'\n",
    "'''\n",
    "print_query(OR_query)\n",
    "\n",
    "\n",
    "OR_query = ''' \n",
    "SELECT * FROM Customers\n",
    "WHERE City = 'Berlin' OR CustomerName LIKE 'G%' OR Country = 'Norway'\n",
    "'''\n",
    "print_query(OR_query)\n",
    "\n",
    "\n",
    "# Combining AND and OR\n",
    "AND_OR_query = ''' \n",
    "SELECT * FROM Customers\n",
    "WHERE Country = 'Spain' AND (CustomerName LIKE 'G%' OR CustomerName LIKE 'R%')\n",
    "'''\n",
    "print_query(AND_OR_query)\n",
    "\n",
    "\n",
    "AND_OR_query = ''' \n",
    "SELECT * FROM Customers\n",
    "WHERE Country = 'Spain' AND CustomerName LIKE 'G%' OR CustomerName LIKE 'R%'\n",
    "'''\n",
    "print_query(AND_OR_query)\n",
    "\n",
    "\n"
   ]
  },
  {
   "cell_type": "markdown",
   "metadata": {},
   "source": [
    "#### SQL NOT Operator"
   ]
  },
  {
   "cell_type": "code",
   "execution_count": 64,
   "metadata": {},
   "outputs": [
    {
     "name": "stdout",
     "output_type": "stream",
     "text": [
      " \n",
      "SELECT * FROM Customers\n",
      "WHERE NOT Country = 'Spain'\n",
      "\n",
      "Query Results:\n",
      "(1, 'Alfreds Futterkiste', 'Maria Anders', 'Obere Str. 57', 'Berlin', '12209', 'Germany')\n",
      "(2, 'Ana Trujillo Emparedados y helados', 'Ana Trujillo', 'Avda. de la Constitución 2222', 'México D.F.', '5021', 'Mexico')\n",
      "(3, 'Antonio Moreno Taquería', 'Antonio Moreno', 'Mataderos 2312', 'México D.F.', '5023', 'Mexico')\n",
      "(4, 'Around the Horn', 'Thomas Hardy', '120 Hanover Sq.', 'London', 'WA1 1DP', 'UK')\n",
      "(5, 'Berglunds snabbköp', 'Christina Berglund', 'Berguvsvägen 8', 'Luleå', 'S-958 22', 'Sweden')\n",
      "(6, 'Blauer See Delikatessen', 'Hanna Moos', 'Forsterstr. 57', 'Mannheim', '68306', 'Germany')\n",
      "...and 80 more rows.\n",
      "Total rows (if limit is removed): 86\n",
      "--------------------------------------------------\n",
      " \n",
      "SELECT * FROM Customers\n",
      "WHERE CustomerName NOT LIKE 'A%'\n",
      "\n",
      "Query Results:\n",
      "(5, 'Berglunds snabbköp', 'Christina Berglund', 'Berguvsvägen 8', 'Luleå', 'S-958 22', 'Sweden')\n",
      "(6, 'Blauer See Delikatessen', 'Hanna Moos', 'Forsterstr. 57', 'Mannheim', '68306', 'Germany')\n",
      "(7, 'Blondel père et fils', 'Frédérique Citeaux', '24, place Kléber', 'Strasbourg', '67000', 'France')\n",
      "(8, 'Bólido Comidas preparadas', 'Martín Sommer', 'C/ Araquil, 67', 'Madrid', '28023', 'Spain')\n",
      "(9, \"Bon app''\", 'Laurence Lebihans', '12, rue des Bouchers', 'Marseille', '13008', 'France')\n",
      "(10, 'Bottom-Dollar Marketse', 'Elizabeth Lincoln', '23 Tsawassen Blvd.', 'Tsawassen', 'T2F 8M4', 'Canada')\n",
      "...and 81 more rows.\n",
      "Total rows (if limit is removed): 87\n",
      "--------------------------------------------------\n"
     ]
    }
   ],
   "source": [
    "NOT_query = ''' \n",
    "SELECT * FROM Customers\n",
    "WHERE NOT Country = 'Spain'\n",
    "'''\n",
    "print_query(NOT_query)\n",
    "\n",
    "\n",
    "# NOT LIKE\n",
    "NOT_query = ''' \n",
    "SELECT * FROM Customers\n",
    "WHERE CustomerName NOT LIKE 'A%'\n",
    "'''\n",
    "print_query(NOT_query)\n"
   ]
  },
  {
   "cell_type": "code",
   "execution_count": 65,
   "metadata": {},
   "outputs": [
    {
     "name": "stdout",
     "output_type": "stream",
     "text": [
      " \n",
      "SELECT * FROM Customers\n",
      "WHERE CustomerID NOT BETWEEN 10 AND 60\n",
      "\n",
      "Query Results:\n",
      "(1, 'Alfreds Futterkiste', 'Maria Anders', 'Obere Str. 57', 'Berlin', '12209', 'Germany')\n",
      "(2, 'Ana Trujillo Emparedados y helados', 'Ana Trujillo', 'Avda. de la Constitución 2222', 'México D.F.', '5021', 'Mexico')\n",
      "(3, 'Antonio Moreno Taquería', 'Antonio Moreno', 'Mataderos 2312', 'México D.F.', '5023', 'Mexico')\n",
      "(4, 'Around the Horn', 'Thomas Hardy', '120 Hanover Sq.', 'London', 'WA1 1DP', 'UK')\n",
      "(5, 'Berglunds snabbköp', 'Christina Berglund', 'Berguvsvägen 8', 'Luleå', 'S-958 22', 'Sweden')\n",
      "(6, 'Blauer See Delikatessen', 'Hanna Moos', 'Forsterstr. 57', 'Mannheim', '68306', 'Germany')\n",
      "...and 34 more rows.\n",
      "Total rows (if limit is removed): 40\n",
      "--------------------------------------------------\n",
      " \n",
      "SELECT * FROM Customers\n",
      "WHERE City NOT IN ('Paris', 'London')\n",
      "\n",
      "Query Results:\n",
      "(1, 'Alfreds Futterkiste', 'Maria Anders', 'Obere Str. 57', 'Berlin', '12209', 'Germany')\n",
      "(2, 'Ana Trujillo Emparedados y helados', 'Ana Trujillo', 'Avda. de la Constitución 2222', 'México D.F.', '5021', 'Mexico')\n",
      "(3, 'Antonio Moreno Taquería', 'Antonio Moreno', 'Mataderos 2312', 'México D.F.', '5023', 'Mexico')\n",
      "(5, 'Berglunds snabbköp', 'Christina Berglund', 'Berguvsvägen 8', 'Luleå', 'S-958 22', 'Sweden')\n",
      "(6, 'Blauer See Delikatessen', 'Hanna Moos', 'Forsterstr. 57', 'Mannheim', '68306', 'Germany')\n",
      "(7, 'Blondel père et fils', 'Frédérique Citeaux', '24, place Kléber', 'Strasbourg', '67000', 'France')\n",
      "...and 77 more rows.\n",
      "Total rows (if limit is removed): 83\n",
      "--------------------------------------------------\n"
     ]
    }
   ],
   "source": [
    "# NOT BETWEEN\n",
    "NOT_query = ''' \n",
    "SELECT * FROM Customers\n",
    "WHERE CustomerID NOT BETWEEN 10 AND 60\n",
    "'''\n",
    "print_query(NOT_query)\n",
    "\n",
    "\n",
    "# NOT IN\n",
    "NOT_query = ''' \n",
    "SELECT * FROM Customers\n",
    "WHERE City NOT IN ('Paris', 'London')\n",
    "'''\n",
    "print_query(NOT_query)\n"
   ]
  },
  {
   "cell_type": "code",
   "execution_count": 66,
   "metadata": {},
   "outputs": [
    {
     "name": "stdout",
     "output_type": "stream",
     "text": [
      " \n",
      "SELECT * FROM Customers\n",
      "WHERE NOT CustomerID > 50\n",
      "\n",
      "Query Results:\n",
      "(1, 'Alfreds Futterkiste', 'Maria Anders', 'Obere Str. 57', 'Berlin', '12209', 'Germany')\n",
      "(2, 'Ana Trujillo Emparedados y helados', 'Ana Trujillo', 'Avda. de la Constitución 2222', 'México D.F.', '5021', 'Mexico')\n",
      "(3, 'Antonio Moreno Taquería', 'Antonio Moreno', 'Mataderos 2312', 'México D.F.', '5023', 'Mexico')\n",
      "(4, 'Around the Horn', 'Thomas Hardy', '120 Hanover Sq.', 'London', 'WA1 1DP', 'UK')\n",
      "(5, 'Berglunds snabbköp', 'Christina Berglund', 'Berguvsvägen 8', 'Luleå', 'S-958 22', 'Sweden')\n",
      "(6, 'Blauer See Delikatessen', 'Hanna Moos', 'Forsterstr. 57', 'Mannheim', '68306', 'Germany')\n",
      "...and 44 more rows.\n",
      "Total rows (if limit is removed): 50\n",
      "--------------------------------------------------\n",
      " \n",
      "SELECT * FROM Customers\n",
      "WHERE NOT CustomerId < 50\n",
      "\n",
      "Query Results:\n",
      "(50, 'Maison Dewey', 'Catherine Dewey', 'Rue Joseph-Bens 532', 'Bruxelles', 'B-1180', 'Belgium')\n",
      "(51, 'Mère Paillarde', 'Jean Fresnière', '43 rue St. Laurent', 'Montréal', 'H1J 1C3', 'Canada')\n",
      "(52, 'Morgenstern Gesundkost', 'Alexander Feuer', 'Heerstr. 22', 'Leipzig', '4179', 'Germany')\n",
      "(53, 'North/South', 'Simon Crowther', 'South House 300 Queensbridge', 'London', 'SW7 1RZ', 'UK')\n",
      "(54, 'Océano Atlántico Ltda.', 'Yvonne Moncada', 'Ing. Gustavo Moncada 8585 Piso 20-A', 'Buenos Aires', '1010', 'Argentina')\n",
      "(55, 'Old World Delicatessen', 'Rene Phillips', '2743 Bering St.', 'Anchorage', '99508', 'USA')\n",
      "...and 36 more rows.\n",
      "Total rows (if limit is removed): 42\n",
      "--------------------------------------------------\n"
     ]
    }
   ],
   "source": [
    "# NOT GREATER Than\n",
    "NOT_query = ''' \n",
    "SELECT * FROM Customers\n",
    "WHERE NOT CustomerID > 50\n",
    "'''\n",
    "print_query(NOT_query)\n",
    "\n",
    "\n",
    "# NOT Less Than\n",
    "NOT_query = ''' \n",
    "SELECT * FROM Customers\n",
    "WHERE NOT CustomerId < 50\n",
    "'''\n",
    "print_query(NOT_query)"
   ]
  },
  {
   "cell_type": "markdown",
   "metadata": {},
   "source": [
    "#### SQL INSERT INTO Statement"
   ]
  },
  {
   "cell_type": "code",
   "execution_count": 68,
   "metadata": {},
   "outputs": [
    {
     "name": "stdout",
     "output_type": "stream",
     "text": [
      " \n",
      "INSERT INTO Customers (CustomerName, ContactName, Address, City, PostalCode, Country)\n",
      "VALUES ('Cardinal', 'Tom B. Erichsen', 'Skagen 21', 'Stavanger', '4006', 'Norway')\n",
      "\n",
      "Query Results:\n",
      "Total rows (if limit is removed): 0\n",
      "--------------------------------------------------\n",
      " \n",
      "INSERT INTO Customers (CustomerName, City, Country)\n",
      "VALUES ('Cardinal', 'Stavanger', 'Norway')\n",
      "\n",
      "Query Results:\n",
      "Total rows (if limit is removed): 0\n",
      "--------------------------------------------------\n",
      " \n",
      "INSERT INTO Customers (CustomerName, ContactName, Address, City, PostalCode, Country)\n",
      "VALUES\n",
      "('Cardinal', 'Tom B. Erichsen', 'Skagen 21', 'Stavanger', '4006', 'Norway'),\n",
      "('Greasy Burger', 'Per Olsen', 'Gateveien 15', 'Sandnes', '4306', 'Norway'),\n",
      "('Tasty Tee', 'Finn Egan', 'Streetroad 19B', 'Liverpool', 'L1 0AA', 'UK')\n",
      "\n",
      "Query Results:\n",
      "Total rows (if limit is removed): 0\n",
      "--------------------------------------------------\n"
     ]
    }
   ],
   "source": [
    "INSERT_INTO_query = ''' \n",
    "INSERT INTO Customers (CustomerName, ContactName, Address, City, PostalCode, Country)\n",
    "VALUES ('Cardinal', 'Tom B. Erichsen', 'Skagen 21', 'Stavanger', '4006', 'Norway')\n",
    "'''\n",
    "print_query(INSERT_INTO_query)\n",
    "\n",
    "INSERT_INTO_query = ''' \n",
    "INSERT INTO Customers (CustomerName, City, Country)\n",
    "VALUES ('Cardinal', 'Stavanger', 'Norway')\n",
    "'''\n",
    "print_query(INSERT_INTO_query)\n",
    "\n",
    "# Insert Multiple Rows\n",
    "INSERT_INTO_query = ''' \n",
    "INSERT INTO Customers (CustomerName, ContactName, Address, City, PostalCode, Country)\n",
    "VALUES\n",
    "('Cardinal', 'Tom B. Erichsen', 'Skagen 21', 'Stavanger', '4006', 'Norway'),\n",
    "('Greasy Burger', 'Per Olsen', 'Gateveien 15', 'Sandnes', '4306', 'Norway'),\n",
    "('Tasty Tee', 'Finn Egan', 'Streetroad 19B', 'Liverpool', 'L1 0AA', 'UK')\n",
    "'''\n",
    "print_query(INSERT_INTO_query)\n",
    "\n",
    "\n"
   ]
  },
  {
   "cell_type": "markdown",
   "metadata": {},
   "source": [
    "#### SQL NULL Values"
   ]
  },
  {
   "cell_type": "code",
   "execution_count": 73,
   "metadata": {},
   "outputs": [
    {
     "name": "stdout",
     "output_type": "stream",
     "text": [
      " \n",
      "SELECT CustomerName, ContactName, Address\n",
      "FROM Customers\n",
      "WHERE Address IS NULL\n",
      "\n",
      "Query Results:\n",
      "('Cardinal', None, None)\n",
      "Total rows (if limit is removed): 1\n",
      "--------------------------------------------------\n",
      " \n",
      "SELECT CustomerName, ContactName, Address\n",
      "FROM Customers\n",
      "WHERE Address IS NOT NULL\n",
      "\n",
      "Query Results:\n",
      "('Alfreds Futterkiste', 'Maria Anders', 'Obere Str. 57')\n",
      "('Ana Trujillo Emparedados y helados', 'Ana Trujillo', 'Avda. de la Constitución 2222')\n",
      "('Antonio Moreno Taquería', 'Antonio Moreno', 'Mataderos 2312')\n",
      "('Around the Horn', 'Thomas Hardy', '120 Hanover Sq.')\n",
      "('Berglunds snabbköp', 'Christina Berglund', 'Berguvsvägen 8')\n",
      "('Blauer See Delikatessen', 'Hanna Moos', 'Forsterstr. 57')\n",
      "...and 90 more rows.\n",
      "Total rows (if limit is removed): 96\n",
      "--------------------------------------------------\n"
     ]
    }
   ],
   "source": [
    "NULL_query = ''' \n",
    "SELECT CustomerName, ContactName, Address\n",
    "FROM Customers\n",
    "WHERE Address IS NULL\n",
    "'''\n",
    "print_query(NULL_query)\n",
    "\n",
    "NULL_query = ''' \n",
    "SELECT CustomerName, ContactName, Address\n",
    "FROM Customers\n",
    "WHERE Address IS NOT NULL\n",
    "'''\n",
    "print_query(NULL_query)"
   ]
  },
  {
   "cell_type": "markdown",
   "metadata": {},
   "source": [
    "#### SQL UPDATE Statement"
   ]
  },
  {
   "cell_type": "code",
   "execution_count": 80,
   "metadata": {},
   "outputs": [
    {
     "name": "stdout",
     "output_type": "stream",
     "text": [
      " \n",
      "SELECT * \n",
      "FROM Customers\n",
      "WHERE CustomerID = 1\n",
      "\n",
      "Query Results:\n",
      "(1, 'Alfreds Futterkiste', 'Alfred Schmidt', 'Obere Str. 57', 'Seoul', '12209', 'Germany')\n",
      "Total rows (if limit is removed): 1\n",
      "--------------------------------------------------\n",
      "\n",
      "UPDATE Customers\n",
      "SET ContactName = 'Alfred Schmidt', City= 'Frankfurt'\n",
      "WHERE CustomerID = 1\n",
      "\n",
      "Query Results:\n",
      "Total rows (if limit is removed): 0\n",
      "--------------------------------------------------\n",
      " \n",
      "SELECT * \n",
      "FROM Customers\n",
      "WHERE CustomerID = 1\n",
      "\n",
      "Query Results:\n",
      "(1, 'Alfreds Futterkiste', 'Alfred Schmidt', 'Obere Str. 57', 'Frankfurt', '12209', 'Germany')\n",
      "Total rows (if limit is removed): 1\n",
      "--------------------------------------------------\n"
     ]
    }
   ],
   "source": [
    "before_Update_query = ''' \n",
    "SELECT * \n",
    "FROM Customers\n",
    "WHERE CustomerID = 1\n",
    "'''\n",
    "print_query(before_Update_query)\n",
    "\n",
    "UPDATE_query = '''\n",
    "UPDATE Customers\n",
    "SET ContactName = 'Alfred Schmidt', City= 'Frankfurt'\n",
    "WHERE CustomerID = 1\n",
    "'''\n",
    "print_query(UPDATE_query)\n",
    "\n",
    "after_Update_query = ''' \n",
    "SELECT * \n",
    "FROM Customers\n",
    "WHERE CustomerID = 1\n",
    "'''\n",
    "print_query(after_Update_query)"
   ]
  },
  {
   "cell_type": "code",
   "execution_count": 81,
   "metadata": {},
   "outputs": [
    {
     "name": "stdout",
     "output_type": "stream",
     "text": [
      "\n",
      "UPDATE Customers\n",
      "SET ContactName='Juan'\n",
      "WHERE Country='Mexico'\n",
      "\n"
     ]
    }
   ],
   "source": [
    "UPDATE_query = '''\n",
    "UPDATE Customers\n",
    "SET ContactName='Juan'\n",
    "WHERE Country='Mexico'\n",
    "'''\n",
    "print(UPDATE_query)\n",
    "\n",
    "\n",
    "# UPDATE_query = '''\n",
    "# UPDATE Customers\n",
    "# SET ContactName='Juan'\n",
    "# '''\n",
    "# print(UPDATE_query)"
   ]
  },
  {
   "cell_type": "markdown",
   "metadata": {},
   "source": [
    "#### SQL DELETE Statement\n"
   ]
  },
  {
   "cell_type": "code",
   "execution_count": 85,
   "metadata": {},
   "outputs": [
    {
     "name": "stdout",
     "output_type": "stream",
     "text": [
      " \n",
      "SELECT * FROM Customers\n",
      "WHERE CustomerName = 'Alfreds Futterkiste'\n",
      "\n",
      "Query Results:\n",
      "(1, 'Alfreds Futterkiste', 'Alfred Schmidt', 'Obere Str. 57', 'Frankfurt', '12209', 'Germany')\n",
      "Total rows (if limit is removed): 1\n",
      "--------------------------------------------------\n",
      " \n",
      "DELETE FROM Customers \n",
      "WHERE CustomerName = 'Alfreds Futterkiste'\n",
      "\n"
     ]
    }
   ],
   "source": [
    "before_Delete_query = ''' \n",
    "SELECT * FROM Customers\n",
    "WHERE CustomerName = 'Alfreds Futterkiste'\n",
    "'''\n",
    "print_query(before_Delete_query)\n",
    "\n",
    "after_Delete_query = ''' \n",
    "DELETE FROM Customers \n",
    "WHERE CustomerName = 'Alfreds Futterkiste'\n",
    "'''\n",
    "print(after_Delete_query)\n",
    "\n",
    "\n",
    "# DELETE FROM Customers\n",
    "# DROP TABLE Customers"
   ]
  },
  {
   "cell_type": "markdown",
   "metadata": {},
   "source": [
    "\n",
    "                DELETE\t            DROP TABLE\n",
    "데이터 삭제 여부:\t테이블의 데이터만 삭제\t테이블과 데이터 모두 삭제"
   ]
  },
  {
   "cell_type": "markdown",
   "metadata": {},
   "source": [
    "#### SQL TOP, LIMIT, FETCH FIRST or ROWNUM Clause\n",
    "\n",
    "- SELECT TOP 절은 반환할 레코드의 최대 개수를 지정하는 데 사용\n",
    "- Top은 SQLite에서 지원되지 않으므로, limit 사용"
   ]
  },
  {
   "cell_type": "code",
   "execution_count": 88,
   "metadata": {},
   "outputs": [
    {
     "name": "stdout",
     "output_type": "stream",
     "text": [
      "SELECT * FROM Customers LIMIT 3\n",
      "Query Results:\n",
      "(1, 'Alfreds Futterkiste', 'Alfred Schmidt', 'Obere Str. 57', 'Frankfurt', '12209', 'Germany')\n",
      "(2, 'Ana Trujillo Emparedados y helados', 'Ana Trujillo', 'Avda. de la Constitución 2222', 'México D.F.', '5021', 'Mexico')\n",
      "(3, 'Antonio Moreno Taquería', 'Antonio Moreno', 'Mataderos 2312', 'México D.F.', '5023', 'Mexico')\n",
      "Total rows (if limit is removed): 3\n",
      "--------------------------------------------------\n"
     ]
    }
   ],
   "source": [
    "print_query(\"SELECT * FROM Customers LIMIT 3\")\n",
    "#print_query(\"SELECT TOP 3 * FROM Customers\")"
   ]
  },
  {
   "cell_type": "code",
   "execution_count": 89,
   "metadata": {},
   "outputs": [
    {
     "name": "stdout",
     "output_type": "stream",
     "text": [
      "SELECT * FROM Customers LIMIT 3\n",
      "Query Results:\n",
      "(1, 'Alfreds Futterkiste', 'Alfred Schmidt', 'Obere Str. 57', 'Frankfurt', '12209', 'Germany')\n",
      "(2, 'Ana Trujillo Emparedados y helados', 'Ana Trujillo', 'Avda. de la Constitución 2222', 'México D.F.', '5021', 'Mexico')\n",
      "(3, 'Antonio Moreno Taquería', 'Antonio Moreno', 'Mataderos 2312', 'México D.F.', '5023', 'Mexico')\n",
      "Total rows (if limit is removed): 3\n",
      "--------------------------------------------------\n"
     ]
    }
   ],
   "source": [
    "print_query(\"SELECT * FROM Customers LIMIT 3\")"
   ]
  },
  {
   "cell_type": "code",
   "execution_count": 93,
   "metadata": {},
   "outputs": [
    {
     "name": "stdout",
     "output_type": "stream",
     "text": [
      " \n",
      "SELECT * FROM Customers\n",
      "ORDER BY CustomerName\n",
      "LIMIT (SELECT CAST(COUNT(*) * 0.5 AS INT) FROM Customers);\n",
      "\n",
      "Query Results:\n",
      "(1, 'Alfreds Futterkiste', 'Alfred Schmidt', 'Obere Str. 57', 'Frankfurt', '12209', 'Germany')\n",
      "(2, 'Ana Trujillo Emparedados y helados', 'Ana Trujillo', 'Avda. de la Constitución 2222', 'México D.F.', '5021', 'Mexico')\n",
      "(3, 'Antonio Moreno Taquería', 'Antonio Moreno', 'Mataderos 2312', 'México D.F.', '5023', 'Mexico')\n",
      "(4, 'Around the Horn', 'Thomas Hardy', '120 Hanover Sq.', 'London', 'WA1 1DP', 'UK')\n",
      "(11, \"B''s Beverages\", 'Victoria Ashworth', 'Fauntleroy Circus', 'London', 'EC2 5NT', 'UK')\n",
      "(5, 'Berglunds snabbköp', 'Christina Berglund', 'Berguvsvägen 8', 'Luleå', 'S-958 22', 'Sweden')\n",
      "...and 42 more rows.\n",
      "Total rows (if limit is removed): 48\n",
      "--------------------------------------------------\n"
     ]
    }
   ],
   "source": [
    "# Top Percent 바꿔서 진행해보기\n",
    "TOP_query = ''' \n",
    "SELECT * FROM Customers\n",
    "ORDER BY CustomerName\n",
    "LIMIT (SELECT CAST(COUNT(*) * 0.5 AS INT) FROM Customers);\n",
    "'''\n",
    "print_query(TOP_query)"
   ]
  },
  {
   "cell_type": "code",
   "execution_count": 94,
   "metadata": {},
   "outputs": [
    {
     "name": "stdout",
     "output_type": "stream",
     "text": [
      " \n",
      "SELECT * FROM Customers\n",
      "WHERE Country = 'Germany'\n",
      "LIMIT 3\n",
      "\n",
      "Query Results:\n",
      "(1, 'Alfreds Futterkiste', 'Alfred Schmidt', 'Obere Str. 57', 'Frankfurt', '12209', 'Germany')\n",
      "(6, 'Blauer See Delikatessen', 'Hanna Moos', 'Forsterstr. 57', 'Mannheim', '68306', 'Germany')\n",
      "(17, 'Drachenblut Delikatessend', 'Sven Ottlieb', 'Walserweg 21', 'Aachen', '52066', 'Germany')\n",
      "Total rows (if limit is removed): 3\n",
      "--------------------------------------------------\n"
     ]
    }
   ],
   "source": [
    "TOP_query = ''' \n",
    "SELECT * FROM Customers\n",
    "WHERE Country = 'Germany'\n",
    "LIMIT 3\n",
    "'''\n",
    "print_query(TOP_query)"
   ]
  },
  {
   "cell_type": "code",
   "execution_count": 95,
   "metadata": {},
   "outputs": [
    {
     "name": "stdout",
     "output_type": "stream",
     "text": [
      "SELECT * FROM Customers ORDER BY CustomerName DESC LIMIT 3;\n",
      "Query Results:\n",
      "(91, 'Wolski', 'Zbyszek', 'ul. Filtrowa 68', 'Walla', '01-012', 'Poland')\n",
      "(90, 'Wilman Kala', 'Matti Karttunen', 'Keskuskatu 45', 'Helsinki', '21240', 'Finland')\n",
      "(89, 'White Clover Markets', 'Karl Jablonski', '305 - 14th Ave. S. Suite 3B', 'Seattle', '98128', 'USA')\n",
      "Total rows (if limit is removed): 3\n",
      "--------------------------------------------------\n"
     ]
    }
   ],
   "source": [
    "print_query(\"SELECT * FROM Customers ORDER BY CustomerName DESC LIMIT 3;\")"
   ]
  },
  {
   "cell_type": "code",
   "execution_count": null,
   "metadata": {},
   "outputs": [],
   "source": []
  }
 ],
 "metadata": {
  "kernelspec": {
   "display_name": "venv",
   "language": "python",
   "name": "python3"
  },
  "language_info": {
   "codemirror_mode": {
    "name": "ipython",
    "version": 3
   },
   "file_extension": ".py",
   "mimetype": "text/x-python",
   "name": "python",
   "nbconvert_exporter": "python",
   "pygments_lexer": "ipython3",
   "version": "3.9.6"
  }
 },
 "nbformat": 4,
 "nbformat_minor": 2
}
