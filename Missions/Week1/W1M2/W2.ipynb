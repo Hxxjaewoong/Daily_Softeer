{
 "cells": [
  {
   "cell_type": "markdown",
   "metadata": {},
   "source": [
    "# W1M2 - SQL Tutorial"
   ]
  },
  {
   "cell_type": "markdown",
   "metadata": {},
   "source": [
    "#### 학습 목표\n",
    "SQL의 기초에 대해서 공부합니다.\n",
    "Tutorial의 Home에서부터 Operators까지 읽고 Example을 실행합니다.\n",
    "Jupyter Notebook에서 SQL을 사용해서 데이터를 처리하는 것을 공부합니다.\n",
    "\n",
    "#### 기능요구사항\n",
    "Jupyter Notebook을 만듭니다.\n",
    "SQL Tutorials에서 Example을 하나씩 수행하고 그 결과를 노트북에 출력하세요.\n",
    "원하는 출력결과를 얻기 위해 필요하다면 적합한 Demo Table을 만들어야 합니다.\n",
    "\n",
    "#### 프로그래밍 요구사항\n",
    "sqlite3 라이브러리를 사용하세요\n",
    "\n",
    "#### pandas와 같은 라이브러리는 사용해서는 안됩니다. SQL 명령어로만 원하는 결과를 얻어야 합니다.\n",
    "\n",
    "#### 예상결과 및 동작예시\n",
    "Query의 결과가 출력된 Jupyter notebook을 제출하세요.\n",
    "\n",
    "#### 팀 활동 요구사항\n",
    "각자가 이해하기 어려웠던, 또는 이해하지 못한 keyword에 대해서 함께 토의해 봅시다. 그 결과를 개인 위키에 기록하세요.\n",
    "\n"
   ]
  },
  {
   "cell_type": "markdown",
   "metadata": {},
   "source": [
    "---"
   ]
  }
 ],
 "metadata": {
  "language_info": {
   "name": "python"
  }
 },
 "nbformat": 4,
 "nbformat_minor": 2
}
