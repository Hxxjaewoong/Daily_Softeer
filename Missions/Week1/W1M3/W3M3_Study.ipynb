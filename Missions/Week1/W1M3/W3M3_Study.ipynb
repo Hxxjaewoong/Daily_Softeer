{
 "cells": [
  {
   "cell_type": "markdown",
   "metadata": {},
   "source": [
    "## Parser / Python's html.parser"
   ]
  },
  {
   "cell_type": "code",
   "execution_count": 16,
   "metadata": {},
   "outputs": [
    {
     "name": "stdout",
     "output_type": "stream",
     "text": [
      "NEVER - 국민의 아들\n",
      "SIGNAL - TWICE\n",
      "LONELY - 씨스타\n",
      "I LUV IT - PSY\n",
      "New Face - PSY\n"
     ]
    }
   ],
   "source": [
    "from bs4 import BeautifulSoup\n",
    "html = ''' \n",
    "<ol>\n",
    "    <li>NEVER - 국민의 아들</li>\n",
    "    <li>SIGNAL - TWICE</li>\n",
    "    <li>LONELY - 씨스타</li>\n",
    "    <li>I LUV IT - PSY</li>\n",
    "    <li>New Face - PSY</li>\n",
    "</ol>\n",
    "'''\n",
    "soup = BeautifulSoup(html, 'html.parser')\n",
    "for tag in soup.select('li'):\n",
    "    print(tag.text)"
   ]
  },
  {
   "cell_type": "markdown",
   "metadata": {},
   "source": [
    "## Parser / lxml's HTML parser"
   ]
  },
  {
   "cell_type": "code",
   "execution_count": 17,
   "metadata": {},
   "outputs": [
    {
     "name": "stdout",
     "output_type": "stream",
     "text": [
      "NEVER - 국민의 아들\n",
      "SIGNAL - TWICE\n",
      "LONELY - 씨스타\n",
      "I LUV IT - PSY\n",
      "New Face - PSY\n"
     ]
    }
   ],
   "source": [
    "from bs4 import BeautifulSoup\n",
    "html = ''' \n",
    "<ol>\n",
    "    <li>NEVER - 국민의 아들</li>\n",
    "    <li>SIGNAL - TWICE</li>\n",
    "    <li>LONELY - 씨스타</li>\n",
    "    <li>I LUV IT - PSY</li>\n",
    "    <li>New Face - PSY</li>\n",
    "</ol>\n",
    "'''\n",
    "soup = BeautifulSoup(html, 'lxml')\n",
    "for tag in soup.select('li'):\n",
    "    print(tag.text)"
   ]
  },
  {
   "cell_type": "markdown",
   "metadata": {},
   "source": [
    "---"
   ]
  },
  {
   "cell_type": "code",
   "execution_count": 18,
   "metadata": {},
   "outputs": [
    {
     "ename": "SyntaxError",
     "evalue": "invalid syntax (1819971974.py, line 40)",
     "output_type": "error",
     "traceback": [
      "\u001b[0;36m  Cell \u001b[0;32mIn[18], line 40\u001b[0;36m\u001b[0m\n\u001b[0;31m    df.columns =\u001b[0m\n\u001b[0m                 ^\u001b[0m\n\u001b[0;31mSyntaxError\u001b[0m\u001b[0;31m:\u001b[0m invalid syntax\n"
     ]
    }
   ],
   "source": [
    "import requests\n",
    "from bs4 import BeautifulSoup\n",
    "import pandas as pd\n",
    "import datetime\n",
    "\n",
    "# 로그 기록 함수\n",
    "def log_message(message):\n",
    "    timestamp = datetime.datetime.now().strftime('%Y-%b-%d-%H-%M-%S')\n",
    "    with open('etl_project_log.txt', 'a') as log_file:\n",
    "        log_file.write(f\"{timestamp}, {message}\\n\")\n",
    "        \n",
    "\n",
    "# Extract\n",
    "def extract_gdp_data(url):\n",
    "    log_message(\"Starting Data Extraction\")\n",
    "    # HTTP 요청 후 파싱해서 데이터 추출\n",
    "    response = requests.get(url)\n",
    "    soup = BeautifulSoup(response.text, 'html.parser')\n",
    "    table = soup.find('table', {'class': 'wikitable'})\n",
    "    rows = table.find_all('tr')\n",
    "\n",
    "    data = []\n",
    "    # 불필요한 (헤더) 제거 후 데이터 추출\n",
    "    for row in rows[3:]:\n",
    "        cols = row.find_all(['td', 'th'])\n",
    "        \n",
    "        # 'sup' 태그 제거 후 텍스트 추출\n",
    "        cleaned_cols = []\n",
    "        for col in cols:\n",
    "            for sup in col.find_all('sup'):\n",
    "                sup.decompose()  # 'sup' 태그 제거\n",
    "            cleaned_cols.append(col.text.strip())\n",
    "        \n",
    "        data.append(cleaned_cols)\n",
    "    return data\n",
    "    \n",
    "\n",
    "    \n",
    "# Transfrom\n",
    "def transfrom_gdp_data(data):\n",
    "    log_message(\"Starting Data Transformation\")\n",
    "    # 국가별 GDP 확인 가능한 테이블 만들기\n",
    "    df = pd.DataFrame(data)\n",
    "    # 열 수 확인해서 조건 맞아야만 실행\n",
    "    if len(df.columns) == 7:\n",
    "        df.columns = df.columns = ['Country', 'IMF_Forecase', 'IMF_Year', 'WB_Forecase', 'WB_Year', 'UN_Forecase', 'UN_Year']\n",
    "        # 필요한 값만 추출 (일단은 IMF만)\n",
    "        df = df[['Country', 'IMF_Forecase', 'IMF_Year']]\n",
    "    else:\n",
    "        raise ValueError(f\"Unexpected number of columns: {len(df.columns)}\")\n",
    "    \n",
    "    \n",
    "    \n",
    "    \n",
    "    \n",
    "    \n",
    "# Load\n",
    "\n",
    "# 메인 ETL 함수\n",
    "def etl_process():\n",
    "    url = \"https://en.wikipedia.org/wiki/List_of_countries_by_GDP_(nominal)\"\n",
    "    try:\n",
    "        log_message(\"ETL Process Started\")\n",
    "        data = extract_gdp_data(url)\n",
    "        log_message(\"ETL Process End Successfully\")\n",
    "    except Exception as e:\n",
    "        log_message(f\"ETL Process Failed: {str(e)}\")\n",
    "        \n",
    "\n",
    "\n",
    "if __name__ == \"__main__\":\n",
    "    etl_process()"
   ]
  },
  {
   "cell_type": "markdown",
   "metadata": {},
   "source": [
    "만들어야 하는 것 \n",
    "1. 국가별 GDP 확인 가능한 테이블 (GDP가 높은 국가들 순서로/ 단위는 1B USD로 소수점 2자리/ 갱신해도 재사용 가능하게)\n",
    "2. <u>로그 기록시 datetime Year-Monthname-Day-Hour-Minute-Second (각 단계의 시작과 끝을 로그에 기록(기족 파일에 append))</u>\n",
    "3. 추출 (Extract)한 정보는 'Countries_by_GDP.json'라는 이름의 JSON 화일 포맷으로 저장\n",
    "4.  필요한 모든 작업을 수행하는 'etl_project_gdp.py' 코드를 작성\n",
    "\n",
    "지켜야 하는 것\n",
    "1. 주석 사용\n",
    "2. 함수 만들어 재사용성\n",
    "\n",
    "화면 출력\n",
    "1. GDP가 100B USD이상이 되는 국가만을 구해서 화면에 출력\n",
    "2. 각 Region별로 top5 국가의 GDP 평균을 구해서 화면에 출력\n"
   ]
  },
  {
   "cell_type": "markdown",
   "metadata": {},
   "source": [
    "---"
   ]
  },
  {
   "cell_type": "code",
   "execution_count": 31,
   "metadata": {},
   "outputs": [
    {
     "name": "stdout",
     "output_type": "stream",
     "text": [
      "['United States', '30,337,162', '2025', '27,360,935', '2023', '25,744,100', '2022']\n",
      "['China', '19,534,894', '2025', '17,794,782', '2023', '17,963,170', '2022']\n",
      "['Germany', '4,921,563', '2025', '4,456,081', '2023', '4,076,923', '2022']\n",
      "['Japan', '4,389,326', '2025', '4,212,945', '2023', '4,232,173', '2022']\n",
      "['India', '4,271,922', '2025', '3,549,919', '2023', '3,465,541', '2022']\n",
      "['United Kingdom', '3,730,261', '2025', '3,340,032', '2023', '3,089,072', '2022']\n",
      "['France', '3,283,429', '2025', '3,030,904', '2023', '2,775,316', '2022']\n",
      "['Italy', '2,459,597', '2025', '2,254,851', '2023', '2,046,952', '2022']\n"
     ]
    }
   ],
   "source": [
    "import requests\n",
    "from bs4 import BeautifulSoup\n",
    "import pandas as pd\n",
    "import datetime\n",
    "\n",
    "url = \"https://en.wikipedia.org/wiki/List_of_countries_by_GDP_(nominal)\"\n",
    "\n",
    "# HTTP 요청 후 파싱해서 데이터 추출\n",
    "response = requests.get(url)\n",
    "soup = BeautifulSoup(response.text, 'html.parser')\n",
    "table = soup.find('table', {'class': 'wikitable'})\n",
    "rows = table.find_all('tr')\n",
    "\n",
    "data = []\n",
    "# 불필요한 (헤더) 제거 후 데이터 추출\n",
    "for row in rows[3:]:\n",
    "    cols = row.find_all(['td', 'th'])\n",
    "    \n",
    "    # 'sup' 태그 제거 후 텍스트 추출\n",
    "    cleaned_cols = []\n",
    "    for col in cols:\n",
    "        for sup in col.find_all('sup'):\n",
    "            sup.decompose()  # 'sup' 태그 제거\n",
    "        cleaned_cols.append(col.text.strip())\n",
    "    \n",
    "    data.append(cleaned_cols)\n",
    "\n",
    "\n",
    "# 결과 출력\n",
    "for row in data[:8]:  # 일부 데이터만 출력\n",
    "    print(row)"
   ]
  },
  {
   "cell_type": "code",
   "execution_count": 35,
   "metadata": {},
   "outputs": [
    {
     "name": "stdout",
     "output_type": "stream",
     "text": [
      "          Country IMF_Forecase IMF_Year WB_Forecase WB_Year UN_Forecase  \\\n",
      "0   United States   30,337,162     2025  27,360,935    2023  25,744,100   \n",
      "1           China   19,534,894     2025  17,794,782    2023  17,963,170   \n",
      "2         Germany    4,921,563     2025   4,456,081    2023   4,076,923   \n",
      "3           Japan    4,389,326     2025   4,212,945    2023   4,232,173   \n",
      "4           India    4,271,922     2025   3,549,919    2023   3,465,541   \n",
      "5  United Kingdom    3,730,261     2025   3,340,032    2023   3,089,072   \n",
      "\n",
      "  UN_Year  \n",
      "0    2022  \n",
      "1    2022  \n",
      "2    2022  \n",
      "3    2022  \n",
      "4    2022  \n",
      "5    2022  \n",
      "----------------------------------------------------------------------\n",
      "          Country IMF_Forecase IMF_Year\n",
      "0   United States   30,337,162     2025\n",
      "1           China   19,534,894     2025\n",
      "2         Germany    4,921,563     2025\n",
      "3           Japan    4,389,326     2025\n",
      "4           India    4,271,922     2025\n",
      "5  United Kingdom    3,730,261     2025\n"
     ]
    }
   ],
   "source": [
    "data = [    \n",
    "    ['United States', '30,337,162', '2025', '27,360,935', '2023', '25,744,100', '2022'],\n",
    "    ['China', '19,534,894', '2025', '17,794,782', '2023', '17,963,170', '2022'],\n",
    "    ['Germany', '4,921,563', '2025', '4,456,081', '2023', '4,076,923', '2022'],\n",
    "    ['Japan', '4,389,326', '2025', '4,212,945', '2023', '4,232,173', '2022'],\n",
    "    ['India', '4,271,922', '2025', '3,549,919', '2023', '3,465,541', '2022'],\n",
    "    ['United Kingdom', '3,730,261', '2025', '3,340,032', '2023', '3,089,072', '2022']\n",
    "]   \n",
    "\n",
    "df = pd.DataFrame(data)\n",
    "df.columns = ['Country', 'IMF_Forecase', 'IMF_Year', 'WB_Forecase', 'WB_Year', 'UN_Forecase', 'UN_Year']\n",
    "print(df)\n",
    "print('-' * 70)\n",
    "df = df[['Country', 'IMF_Forecase', 'IMF_Year']]\n",
    "print(df)"
   ]
  },
  {
   "cell_type": "code",
   "execution_count": null,
   "metadata": {},
   "outputs": [],
   "source": []
  },
  {
   "cell_type": "code",
   "execution_count": null,
   "metadata": {},
   "outputs": [],
   "source": []
  }
 ],
 "metadata": {
  "kernelspec": {
   "display_name": "venv",
   "language": "python",
   "name": "python3"
  },
  "language_info": {
   "codemirror_mode": {
    "name": "ipython",
    "version": 3
   },
   "file_extension": ".py",
   "mimetype": "text/x-python",
   "name": "python",
   "nbconvert_exporter": "python",
   "pygments_lexer": "ipython3",
   "version": "3.9.6"
  }
 },
 "nbformat": 4,
 "nbformat_minor": 2
}
