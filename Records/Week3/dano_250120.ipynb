{
 "cells": [
  {
   "cell_type": "markdown",
   "metadata": {},
   "source": [
    "## 250120"
   ]
  },
  {
   "cell_type": "markdown",
   "metadata": {},
   "source": [
    "## Assumptions and Goals of HDFS ==> 매일 읽어보고 스크럼떄 토론\n",
    "- 하드웨어가 failure 되어도 괜찮다고 설계됨 ==> 분산처리 되어있어서\n",
    "- Moving Computation is Cheaper than Moving Data ==> \n",
    "- Portability Across Heterogeneous(동질한, 같은) Hardware and Software Platforms ==> 똑같은 하드웨어가 존재. 관리하기가 쉬워지고 대응이 쉬워짐.\n",
    "\n",
    "## Simple Coherency Model\n",
    "- 무언가를 취하기 위해 무언가를 버림 ==> \n",
    "- WORM (write-once-read-many) ==> enables high throughput data access (많은 양의 데이터를 바로 처리할 수 있음) / 이걸 위해 스토리지 용량, 데이터 변경될 때의 고민 이 2개를 포기함\n",
    "- A MapReduce application or a web crawler application fits perfectly with this model ==> 크롤링은 곧 스크린샷임. "
   ]
  },
  {
   "cell_type": "markdown",
   "metadata": {},
   "source": [
    "## “Moving Computation is Cheaper than Moving Data” \n",
    "- 데이터가 분산되어있다고 가정되어 있음 ==> 매번 모아서 합치는 것의 비용이 많이 들 것\n",
    "- 프로그램을 부분적으로 돌려서 합치는 게 더 나을 것 ==> 언제나 합쳐서 돌렸을 때와 결과가 같아야함\n",
    "- Data Parallism과 비슷한 개념\n",
    "\n",
    "\n",
    "## Commodity Hardware\n",
    "- 싸구려 머신(흔히 구할 수 있는)\n",
    "- Redunduncy 해결, Hardware failure 해결\n",
    "- 하드웨어 비용을 급격히 아낄 수 있음\n",
    "\n",
    "## NameNode & DataNode\n",
    "- NameNode stores the filesystem metadata\n",
    "- DataNodes are the slave nodes that store the actual business data \n",
    "\n",
    "## Data Replication\n",
    "- 다른 데이터 노드를 쓰는 것\n",
    "- 중요성에 따라 data repliacation을 조절하면됨\n",
    "\n"
   ]
  },
  {
   "cell_type": "markdown",
   "metadata": {},
   "source": [
    "## Data Locality\n",
    "\n",
    "\n",
    "## The fundamental idea of YARN is to split up the functionalities of resource management and job scheduling/monitoring into separate daemons.\n",
    "- 왜 나눴을까?\n",
    "- ResourceManager (RM): resource management \n",
    "- ApplicationMaster(job scheduling/monitoring하는 것)(AM): An application is either a single job or a DAG of jobs\n",
    "    - per application : job이 끝나면 죽고 사라짐\n",
    "    - 자기 app만 돌리느라 바쁨\n",
    "    - <u>app 이 죽었을 때 누가 살리고 관리하는지 알아보기</u> ==> Scheduler는 임의의 slave node에 있는 컨테이너 중 하나를 Application Master로 할당하는데, 아마 얘인 듯? 근데 사실상 스케줄러가 함 ㅋㅋ\n",
    "- RM과 AM는 완전 각기 다른 것임. 둘 다 서로 알빠임.\n",
    "\n"
   ]
  },
  {
   "cell_type": "markdown",
   "metadata": {},
   "source": []
  }
 ],
 "metadata": {
  "kernelspec": {
   "display_name": "venv",
   "language": "python",
   "name": "python3"
  },
  "language_info": {
   "name": "python",
   "version": "3.9.6"
  }
 },
 "nbformat": 4,
 "nbformat_minor": 2
}
