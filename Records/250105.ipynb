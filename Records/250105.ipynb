{
 "cells": [
  {
   "cell_type": "markdown",
   "metadata": {},
   "source": [
    "오전 미팅\n",
    "\n",
    "크롤링해서 위키 가져오는 거   \n",
    "시간 남으면 크롤링한 거 판다스로 해보기....... 어렵겠다.................................  \n",
    "**오전에는 크롤링 포커스해서 공부해보기**"
   ]
  },
  {
   "cell_type": "markdown",
   "metadata": {},
   "source": []
  }
 ],
 "metadata": {
  "language_info": {
   "name": "python"
  }
 },
 "nbformat": 4,
 "nbformat_minor": 2
}
